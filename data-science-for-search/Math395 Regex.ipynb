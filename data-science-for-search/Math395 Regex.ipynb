{
 "cells": [
  {
   "cell_type": "markdown",
   "metadata": {},
   "source": [
    "## Regex Assignment\n",
    "\n",
    "<p><b>Abstract: </b>\n",
    "Write a program that asks the student at the CSUMB to input (only accept the input if it is correct and/or meaningful):</p>\n",
    "<p>* First and last name (separated by a comma)</p>\n",
    "<p>* Date of birth (allow specific notations)</p>\n",
    "<p>* Otter ID</p>\n",
    "<p>* Telephone number</p>\n",
    "<p>* ZIP Code</p>\n",
    "<p>* classes taken by name (like MATH 395)</p>\n",
    "<p>* A self chosen password with minimum length of 5, containing at least 1 upper case letter and 1 symbol (if person uses parts of the name, birthdate- print that the password is not secure!)</p>"
   ]
  },
  {
   "cell_type": "code",
   "execution_count": 256,
   "metadata": {
    "collapsed": true
   },
   "outputs": [],
   "source": [
    "import re  \n"
   ]
  },
  {
   "cell_type": "markdown",
   "metadata": {},
   "source": [
    "## First and Last Name\n",
    "\n",
    "<p>Function compares user input against regular expression: [A-Z][a-z]+[\\s][A-Z][a-z]+</p>\n",
    "<p>Under these paramaters, the string entered must start with a capital letter, followed by any number of lower case letters except 0, followed by a space, followed by a capital letter, followed by any number of lower case letters except 0."
   ]
  },
  {
   "cell_type": "code",
   "execution_count": 257,
   "metadata": {
    "collapsed": false
   },
   "outputs": [],
   "source": [
    "def first_last():\n",
    "    pattern = re.compile(\"[A-Z][a-z]+[\\s][A-Z][a-z]+$\")\n",
    "    name = raw_input('Please enter your first and last name: ')\n",
    "    while True:\n",
    "        if pattern.match(name):\n",
    "            print \"Hello \" + name\n",
    "            return name\n",
    "            break\n",
    "        else:\n",
    "            name = raw_input('Incorrect format.  Please enter your first and last name: ')\n",
    "\n"
   ]
  },
  {
   "cell_type": "markdown",
   "metadata": {
    "collapsed": false
   },
   "source": [
    "## Date of birth\n",
    "\n",
    "<p>Function compares user input against regular expression: ([0-9]{2})/([0-9]{2})/([0-9]{4})|([0-9]{2})-([0-9]{2})-([0-9]{4})</p>\n",
    "<p>Under these paramaters, the string entered must start with a 2 digit number followed by a / or -, followed by another 2 digit number and / or -, followed by a 4 digit number."
   ]
  },
  {
   "cell_type": "code",
   "execution_count": 258,
   "metadata": {
    "collapsed": false
   },
   "outputs": [],
   "source": [
    "def DOB():\n",
    "    pattern = re.compile(\"(([0-9]{2})/){2}([0-9]{4})|(([0-9]{2})-){2}([0-9]{4})$\")\n",
    "    dob = raw_input('Please enter your birthdate: ')\n",
    "    while True:\n",
    "        if pattern.match(dob):\n",
    "            print \"Your birthdate is: \" + dob\n",
    "            return dob\n",
    "            break\n",
    "        else:\n",
    "            dob = raw_input('Incorrect format.  Please enter your birthdate: ')\n"
   ]
  },
  {
   "cell_type": "markdown",
   "metadata": {
    "collapsed": true
   },
   "source": [
    "## Otter ID\n",
    "\n",
    "<p>Function compares user input against regular expression: [a-z]{4}[0-9]{4}</p>\n",
    "<p>Under these paramaters, the string entered must start with 4 lowercase letters and end with a 4 digit number."
   ]
  },
  {
   "cell_type": "code",
   "execution_count": 259,
   "metadata": {
    "collapsed": false
   },
   "outputs": [],
   "source": [
    "def otterid():\n",
    "    pattern = re.compile(\"[a-z]{4}[0-9]{4}$\")\n",
    "    ID = raw_input('Please enter your Otter ID: ')\n",
    "    while True:\n",
    "        if pattern.match(ID):\n",
    "            print \"Your Otter ID is: \" + ID\n",
    "            return ID\n",
    "            break\n",
    "        else:\n",
    "            ID = raw_input('Incorrect format.  Please enter your Otter ID: ')\n"
   ]
  },
  {
   "cell_type": "markdown",
   "metadata": {},
   "source": [
    "## Phone Number\n",
    "\n",
    "<p>Function compares user input against regular expression: ([0-9]{3}-[0-9]{3}-[0-9]{4})|(\\([0-9]{3}\\)[0-9]{3}-[0-9]{4})</p>\n",
    "<p>Under these paramaters, the string entered must start with a 3 digit number surrounded by parantheses or not, followed by a -, followed by a 3 digit number and dash, followed by a 4 digit number."
   ]
  },
  {
   "cell_type": "code",
   "execution_count": 260,
   "metadata": {
    "collapsed": false
   },
   "outputs": [],
   "source": [
    "def phonenum():\n",
    "    pattern = re.compile(\"([0-9]{3}-[0-9]{3}-[0-9]{4})|(\\([0-9]{3}\\)-?[0-9]{3}-[0-9]{4})$\")\n",
    "    phone = raw_input('Please enter your phone number: ')\n",
    "    while True:\n",
    "        if pattern.match(phone):\n",
    "            print \"Your phone number is: \" + phone\n",
    "            return phone\n",
    "            break\n",
    "        else:\n",
    "            phone = raw_input('Incorrect format.  Please enter your phone number: ')\n"
   ]
  },
  {
   "cell_type": "markdown",
   "metadata": {},
   "source": [
    "## Zip Code\n",
    "\n",
    "<p>Function compares user input against regular expression: [0-9]{5}</p>\n",
    "<p>Under these paramaters, the string entered must be a 5 digit number."
   ]
  },
  {
   "cell_type": "code",
   "execution_count": 261,
   "metadata": {
    "collapsed": false
   },
   "outputs": [],
   "source": [
    "def zipcode():\n",
    "    pattern = re.compile(\"[0-9]{5}$\")\n",
    "    zipc = raw_input('Please enter your zip code: ')\n",
    "    while True:\n",
    "        if pattern.match(zipc):\n",
    "            print \"Your zip code is: \" + zipc\n",
    "            return zipc\n",
    "            break\n",
    "        else:\n",
    "            zipc = raw_input('Incorrect format.  Please enter your zip code: ')\n"
   ]
  },
  {
   "cell_type": "markdown",
   "metadata": {},
   "source": [
    "## Class ID\n",
    "\n",
    "<p>Function compares user input against regular expression: [A-Z]{2,4}[0-9]{3}</p>\n",
    "<p>Under these paramaters, the string entered must start with 2-4 uppercase letters followed by a 3 digit number."
   ]
  },
  {
   "cell_type": "code",
   "execution_count": 262,
   "metadata": {
    "collapsed": false
   },
   "outputs": [],
   "source": [
    "def classnum():\n",
    "    pattern = re.compile(\"[A-Z]{2,4}[0-9]{3}$\")\n",
    "    classn = raw_input('Please enter your class ID: ')\n",
    "    while True:\n",
    "        if pattern.match(classn):\n",
    "            print \"Your class ID is: \" + classn\n",
    "            return classn\n",
    "            break\n",
    "        else:\n",
    "            classn = raw_input('Incorrect format.  Please enter your class ID: ')\n"
   ]
  },
  {
   "cell_type": "markdown",
   "metadata": {
    "collapsed": true
   },
   "source": [
    "## Previous Functions + Password creation\n",
    "\n",
    "<p>Student class initializes its member variables using the functions above.  It also has a member function that uses the following regular expressions:</p>\n",
    "<p>'.\\*[A-Z].\\*' to check for the presence of a capital letter</p>\n",
    "<p>'.\\*[\\W].\\*' to check for the presence of a special character</p>\n",
    "<p>'(.*){5,}' to check for minimum length of 5</p>\n",
    "<p>And it also checks for the absence of the first and last name, as well as the whole, first half, or second half of the date of birth.</p>\n"
   ]
  },
  {
   "cell_type": "code",
   "execution_count": 298,
   "metadata": {
    "collapsed": false,
    "scrolled": true
   },
   "outputs": [],
   "source": [
    "class student:\n",
    "    def password(self):\n",
    "        dobpattern = re.sub(\"/|-\",\"\",self.dob)\n",
    "        fnamepattern = re.sub('\\s.*$',\"\",self.name)\n",
    "        lnamepattern = re.sub('^.*\\s',\"\",self.name)\n",
    "        word = raw_input('Please enter your password: ')\n",
    "        while True:\n",
    "            if re.match('.*[A-Z].*',word) == None:\n",
    "                word = raw_input('Password requires at least 1 uppercase character.  Please enter your password: ')\n",
    "            elif re.match('.*[\\W].*',word) == None:\n",
    "                word = raw_input('Password requires at least 1 special character.  Please enter your password: ')\n",
    "            elif re.match('(.*){5,}',word)== None:\n",
    "                word = raw_input('Password length must be at least 5 characters long.  Please enter your password: ') \n",
    "            elif re.search(dobpattern, word) or re.search(dobpattern[4:], word) or re.search(dobpattern[:4], word):\n",
    "                word = raw_input('Password cannot contain your birthdate.  Please enter your password: ')\n",
    "            elif re.search(fnamepattern, word):\n",
    "                word = raw_input('Password cannot contain your name.  Please enter your password: ')\n",
    "            elif re.search(lnamepattern, word):\n",
    "                word = raw_input('Password cannot contain your name.  Please enter your password: ')\n",
    "            else:\n",
    "                print \"Password Accepted.\"\n",
    "                return word\n",
    "                #word = raw_input('Incorrect format.  Please enter your password: ')\n",
    "\n",
    "    def __init__(self):\n",
    "        self.name = first_last()\n",
    "        self.dob = DOB()\n",
    "        self.ID = otterid()\n",
    "        self.phone = phonenum()\n",
    "        self.zip_code = zipcode()\n",
    "        self.classnum = classnum()\n",
    "        self.pword = self.password()"
   ]
  },
  {
   "cell_type": "code",
   "execution_count": 300,
   "metadata": {
    "collapsed": false
   },
   "outputs": [
    {
     "name": "stdout",
     "output_type": "stream",
     "text": [
      "Please enter your first and last name: Louie Cortez\n",
      "Hello Louie Cortez\n",
      "Please enter your birthdate: 03/21/1986\n",
      "Your birthdate is: 03/21/1986\n",
      "Please enter your Otter ID: cort6875\n",
      "Your Otter ID is: cort6875\n",
      "Please enter your phone number: 408-555-4856\n",
      "Your phone number is: 408-555-4856\n",
      "Please enter your zip code: 95020\n",
      "Your zip code is: 95020\n",
      "Please enter your class ID: MATH395\n",
      "Your class ID is: MATH395\n",
      "Please enter your password: letmein@!L\n",
      "Password Accepted.\n",
      "Louie Cortez03/21/1986cort6875408-555-485695020MATH395letmein@!L\n"
     ]
    }
   ],
   "source": [
    "x = student()\n"
   ]
  },
  {
   "cell_type": "code",
   "execution_count": 308,
   "metadata": {
    "collapsed": false
   },
   "outputs": [
    {
     "name": "stdout",
     "output_type": "stream",
     "text": [
      "Louie Cortez\n",
      "03/21/1986\n",
      "cort6875\n",
      "408-555-4856\n",
      "95020\n",
      "MATH395\n",
      "letmein@!L\n"
     ]
    }
   ],
   "source": [
    "print x.name +\"\\n\"+ x.dob +\"\\n\"+ x.ID +\"\\n\"+ x.phone +\"\\n\"+ x.zip_code +\"\\n\"+ x.classnum +\"\\n\"+ x.pword"
   ]
  },
  {
   "cell_type": "code",
   "execution_count": null,
   "metadata": {
    "collapsed": true
   },
   "outputs": [],
   "source": []
  }
 ],
 "metadata": {
  "kernelspec": {
   "display_name": "Python 2",
   "language": "python",
   "name": "python2"
  },
  "language_info": {
   "codemirror_mode": {
    "name": "ipython",
    "version": 2
   },
   "file_extension": ".py",
   "mimetype": "text/x-python",
   "name": "python",
   "nbconvert_exporter": "python",
   "pygments_lexer": "ipython2",
   "version": "2.7.11"
  }
 },
 "nbformat": 4,
 "nbformat_minor": 0
}
