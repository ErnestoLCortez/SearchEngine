{
 "cells": [
  {
   "cell_type": "markdown",
   "metadata": {},
   "source": [
    "On Day 1 we were using a lot of core python functions to process and tokenize the text data.  This is overly complex and time consuming for real data.  \n",
    "\n",
    "We would prefer to reuse other work in this area - NLTK is one library that is designed to simplify working with text.  NLTK has been called “a wonderful tool for teaching, and working in, computational linguistics using Python,” and “an amazing library to play with natural language.”\n",
    "\n",
    "The Python 2 Guide is available [here](http://nltk.org/book_1ed):\n",
    "\n",
    "Bird, Steven, Edward Loper and Ewan Klein (2009), _Natural Language Processing with Python._ O’Reilly Media Inc.\n",
    "\n",
    "Before we can get going we need to download the nltk resources:"
   ]
  },
  {
   "cell_type": "code",
   "execution_count": 1,
   "metadata": {
    "collapsed": false
   },
   "outputs": [],
   "source": [
    "import nltk\n",
    "#nltk.download()"
   ]
  },
  {
   "cell_type": "markdown",
   "metadata": {},
   "source": [
    "Now we can load our bike items from day 1:"
   ]
  },
  {
   "cell_type": "code",
   "execution_count": 2,
   "metadata": {
    "collapsed": false
   },
   "outputs": [
    {
     "name": "stdout",
     "output_type": "stream",
     "text": [
      "['Cycling Bicycle MTB Bike Fixie Gloss 3K Carbon Fiber Riser Bar Handlebar 31.8mm', 'BICYCLE RIMS 26\"x 50MM RED 3 SPEED INTERNAL HUB WHEEL SET BEACH CRUISER BIKE', 'Mavic Crossride 26\" Mountain bike wheels and WTB Weirwolf Tires', 'New KCNC ARROW 7050 Alloy Stem , 31.8x150mm , 149g , Black', 'ROTOR QXL Aero Oval Road Chainring BCD110x5 53t']\n"
     ]
    }
   ],
   "source": [
    "import csv\n",
    "r = csv.reader(open('data/bike-items.txt'),delimiter=',', quotechar='\"')\n",
    "items = [ line[0] for i, line in enumerate(r) if i > 1]\n",
    "print(items[0:5])"
   ]
  },
  {
   "cell_type": "markdown",
   "metadata": {},
   "source": [
    "## Tokenizing"
   ]
  },
  {
   "cell_type": "code",
   "execution_count": 3,
   "metadata": {
    "collapsed": false
   },
   "outputs": [
    {
     "name": "stdout",
     "output_type": "stream",
     "text": [
      "[['Cycling', 'Bicycle', 'MTB', 'Bike', 'Fixie', 'Gloss', '3K', 'Carbon', 'Fiber', 'Riser', 'Bar', 'Handlebar', '31.8mm'], ['BICYCLE', 'RIMS', '26', \"''\", 'x', '50MM', 'RED', '3', 'SPEED', 'INTERNAL', 'HUB', 'WHEEL', 'SET', 'BEACH', 'CRUISER', 'BIKE'], ['Mavic', 'Crossride', '26', \"''\", 'Mountain', 'bike', 'wheels', 'and', 'WTB', 'Weirwolf', 'Tires'], ['New', 'KCNC', 'ARROW', '7050', 'Alloy', 'Stem', ',', '31.8x150mm', ',', '149g', ',', 'Black'], ['ROTOR', 'QXL', 'Aero', 'Oval', 'Road', 'Chainring', 'BCD110x5', '53t']]\n"
     ]
    }
   ],
   "source": [
    "from nltk.tokenize import word_tokenize\n",
    "items_t = [ word_tokenize(item) for item in items]\n",
    "print(items_t[0:5])"
   ]
  },
  {
   "cell_type": "markdown",
   "metadata": {},
   "source": [
    "## Stopword Removal\n",
    "\n",
    "Some words just aren't important, word such as:"
   ]
  },
  {
   "cell_type": "code",
   "execution_count": 4,
   "metadata": {
    "collapsed": false
   },
   "outputs": [],
   "source": [
    "from nltk.corpus import stopwords\n",
    "s = set(stopwords.words('english'))"
   ]
  },
  {
   "cell_type": "code",
   "execution_count": 9,
   "metadata": {
    "collapsed": false
   },
   "outputs": [
    {
     "name": "stdout",
     "output_type": "stream",
     "text": [
      "['Mavic', 'Crossride', '26', \"''\", 'Mountain', 'bike', 'wheels', 'and', 'WTB', 'Weirwolf', 'Tires']\n",
      "set(['and', 'Mountain', '26', 'Mavic', 'Crossride', \"''\", 'Tires', 'WTB', 'bike', 'Weirwolf', 'wheels'])\n",
      "None\n"
     ]
    }
   ],
   "source": [
    "t = 'Mavic Crossride 26\" Mountain bike wheels and WTB Weirwolf Tires'\n",
    "tt = word_tokenize(t)\n",
    "print(tt)\n",
    "ttt = set(tt)\n",
    "print(ttt)\n",
    "tttt = ttt.difference_update(s)\n",
    "print(tttt)\n",
    "\n",
    "\n",
    "#items_t2 = [ set(words).difference_update(stopwords) for words in items_t]\n",
    "#items_t2[0:5]"
   ]
  },
  {
   "cell_type": "markdown",
   "metadata": {},
   "source": [
    "## Stemming\n",
    "\n",
    "Can be useful but in the context of item titles is this appropriate?"
   ]
  },
  {
   "cell_type": "code",
   "execution_count": null,
   "metadata": {
    "collapsed": true
   },
   "outputs": [],
   "source": []
  },
  {
   "cell_type": "markdown",
   "metadata": {},
   "source": [
    "## Synonyms \n",
    "\n",
    "Query expansion using synonyms especially when result set contains few or no items."
   ]
  },
  {
   "cell_type": "code",
   "execution_count": null,
   "metadata": {
    "collapsed": true
   },
   "outputs": [],
   "source": []
  },
  {
   "cell_type": "markdown",
   "metadata": {},
   "source": [
    "## Spelling\n",
    "\n",
    "We could correct spelling mistakes on the item titles but also we should ensure that query has no spelling mistakes."
   ]
  },
  {
   "cell_type": "code",
   "execution_count": null,
   "metadata": {
    "collapsed": true
   },
   "outputs": [],
   "source": []
  },
  {
   "cell_type": "code",
   "execution_count": null,
   "metadata": {
    "collapsed": true
   },
   "outputs": [],
   "source": []
  },
  {
   "cell_type": "code",
   "execution_count": null,
   "metadata": {
    "collapsed": true
   },
   "outputs": [],
   "source": []
  },
  {
   "cell_type": "code",
   "execution_count": null,
   "metadata": {
    "collapsed": true
   },
   "outputs": [],
   "source": []
  },
  {
   "cell_type": "code",
   "execution_count": null,
   "metadata": {
    "collapsed": true
   },
   "outputs": [],
   "source": []
  },
  {
   "cell_type": "code",
   "execution_count": null,
   "metadata": {
    "collapsed": true
   },
   "outputs": [],
   "source": []
  }
 ],
 "metadata": {
  "kernelspec": {
   "display_name": "Python 2",
   "language": "python",
   "name": "python2"
  },
  "language_info": {
   "codemirror_mode": {
    "name": "ipython",
    "version": 2
   },
   "file_extension": ".py",
   "mimetype": "text/x-python",
   "name": "python",
   "nbconvert_exporter": "python",
   "pygments_lexer": "ipython2",
   "version": "2.7.11"
  }
 },
 "nbformat": 4,
 "nbformat_minor": 0
}
