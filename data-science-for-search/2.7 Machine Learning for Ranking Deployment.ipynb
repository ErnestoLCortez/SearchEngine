{
 "cells": [
  {
   "cell_type": "markdown",
   "metadata": {},
   "source": [
    "During day 1 we saw how to build an inverted index to efficiently generate a recall set of documents. We then ranked documents using term frequency, inverse document frequency and BM25.0.  \n",
    "\n",
    "Today we have looked at building machine learning algorithms for ranking.  This notebook shows how we use the machine learnt models in a search engine.  We \"deploy\" one of the models we created."
   ]
  },
  {
   "cell_type": "code",
   "execution_count": 2,
   "metadata": {
    "collapsed": true
   },
   "outputs": [],
   "source": [
    "import os \n",
    "import pandas as pd"
   ]
  },
  {
   "cell_type": "code",
   "execution_count": 3,
   "metadata": {
    "collapsed": false
   },
   "outputs": [
    {
     "name": "stderr",
     "output_type": "stream",
     "text": [
      "/home/ubuntu/anaconda2/lib/python2.7/site-packages/IPython/core/interactiveshell.py:2902: DtypeWarning: Columns (5) have mixed types. Specify dtype option on import or set low_memory=False.\n",
      "  interactivity=interactivity, compiler=compiler, result=result)\n"
     ]
    }
   ],
   "source": [
    "data = pd.read_csv(\"data/fullDataset.tsv\", sep=\"\\t\",header=0)\n",
    "data = data.dropna()"
   ]
  },
  {
   "cell_type": "markdown",
   "metadata": {},
   "source": [
    "## Build inverted index"
   ]
  },
  {
   "cell_type": "code",
   "execution_count": 78,
   "metadata": {
    "collapsed": false
   },
   "outputs": [
    {
     "data": {
      "text/plain": [
       "Index([u'key', u'query', u'Title', u'LeafCats', u'ItemID', u'X_unit_id',\n",
       "       u'SCORE', u'label_relevanceGrade', u'label_relevanceBinary',\n",
       "       u'feature_1', u'feature_2', u'feature_3', u'feature_4', u'feature_5',\n",
       "       u'feature_6', u'feature_7', u'feature_8', u'feature_9', u'feature_10'],\n",
       "      dtype='object')"
      ]
     },
     "execution_count": 78,
     "metadata": {},
     "output_type": "execute_result"
    }
   ],
   "source": [
    "data.columns"
   ]
  },
  {
   "cell_type": "code",
   "execution_count": 79,
   "metadata": {
    "collapsed": false
   },
   "outputs": [
    {
     "data": {
      "text/plain": [
       "['disney world all star music all inclusive package feb',\n",
       " 'mgtc td tf mga morris minor top wing bolts set of',\n",
       " 'new cross vice gel ink pen gift set document marker',\n",
       " 'white paper towel roll holder cabinet wall mount sturdy',\n",
       " 'engine cooling head traxxas jato trx nitro rustler']"
      ]
     },
     "execution_count": 79,
     "metadata": {},
     "output_type": "execute_result"
    }
   ],
   "source": [
    "import re\n",
    "\n",
    "rgx = re.compile(r'\\b[a-zA-Z]+\\b')\n",
    "corpus = [ ' '.join(re.findall(rgx, str(x))).lower() for x in data.Title]\n",
    "corpus[0:5]"
   ]
  },
  {
   "cell_type": "code",
   "execution_count": 80,
   "metadata": {
    "collapsed": true
   },
   "outputs": [],
   "source": [
    "def create_inverted_index(corpus):\n",
    "    idx={}\n",
    "    for i, doc in enumerate(corpus):\n",
    "        # << POPULATE INVERTED INDEX >> CODE HERE\n",
    "        ## HIDE\n",
    "        for word in doc.split():\n",
    "            if word in idx:\n",
    "                idx[word].append(i)\n",
    "            else:\n",
    "                idx[word] = [i]\n",
    "        ## HIDE\n",
    "    return idx\n",
    "\n",
    "idx = create_inverted_index(corpus)"
   ]
  },
  {
   "cell_type": "markdown",
   "metadata": {},
   "source": [
    "We still have bike items in our corpus:"
   ]
  },
  {
   "cell_type": "code",
   "execution_count": 81,
   "metadata": {
    "collapsed": false
   },
   "outputs": [
    {
     "name": "stdout",
     "output_type": "stream",
     "text": [
      "[55, 421, 546, 559, 648, 691, 702, 983, 1234, 1262]\n",
      "waterproof anti shock led bike taillight tail rear light caution aaa battery\n"
     ]
    }
   ],
   "source": [
    "print(idx['bike'][0:10])\n",
    "print(corpus[55])"
   ]
  },
  {
   "cell_type": "markdown",
   "metadata": {},
   "source": [
    "Now we have the index we can generate a recall set, all that is left is to score the documents.\n",
    "\n",
    "### Question?\n",
    "Here I normalise the features - but what would we do in a real MLR problem - as new data accumulates - do we use algorithms that do not require normalisation of the features?"
   ]
  },
  {
   "cell_type": "code",
   "execution_count": 82,
   "metadata": {
    "collapsed": false
   },
   "outputs": [],
   "source": [
    "from sklearn.externals import joblib\n",
    "features = data.loc[:,'feature_1':'feature_10']\n",
    "scaler = joblib.load('models/scaler.pkl')\n",
    "features = scaler.transform(features)"
   ]
  },
  {
   "cell_type": "markdown",
   "metadata": {},
   "source": [
    "For efficiency we are going to store the feature vector for each document in the index:"
   ]
  },
  {
   "cell_type": "code",
   "execution_count": 83,
   "metadata": {
    "collapsed": false
   },
   "outputs": [
    {
     "name": "stdout",
     "output_type": "stream",
     "text": [
      "[52481, 14155, 40812, 50745, 63003, 41183]\n",
      "[array([-0.04813072, -1.12769441, -0.44239811,  0.67552043,  0.59559434,\n",
      "       -0.40688642, -0.22357568,  0.46916959, -0.84460605, -0.76963843]), array([-0.04813072, -1.12769441, -0.13007418, -2.1655071 ,  3.61571009,\n",
      "        1.21961306, -0.22357568,  0.46916959,  0.93098746,  1.3424747 ]), array([-0.04813072, -1.12769441, -1.21733325, -0.09324576, -0.10931327,\n",
      "        1.04045348, -0.22357568,  0.46916959, -0.74731325,  1.28736161]), array([-0.04813072, -1.12769441, -0.41255737, -1.05129674,  2.9225102 ,\n",
      "        1.21961306, -0.22357568,  0.46916959,  0.88234106,  1.3424747 ]), array([-0.04813072, -1.12769441,  0.0542711 , -1.61285698, -0.4537387 ,\n",
      "       -1.25492903, -0.21621783, -1.40998272, -0.01761729, -0.76963843]), array([-0.51155529,  0.88676506, -0.58065482, -0.28452294, -1.56581144,\n",
      "       -0.70496106,  7.68161255,  0.66289515, -0.86892925, -0.76963843])]\n"
     ]
    },
    {
     "data": {
      "text/plain": [
       "{14155: array([-0.04813072, -1.12769441, -0.13007418, -2.1655071 ,  3.61571009,\n",
       "         1.21961306, -0.22357568,  0.46916959,  0.93098746,  1.3424747 ]),\n",
       " 40812: array([-0.04813072, -1.12769441, -1.21733325, -0.09324576, -0.10931327,\n",
       "         1.04045348, -0.22357568,  0.46916959, -0.74731325,  1.28736161]),\n",
       " 41183: array([-0.51155529,  0.88676506, -0.58065482, -0.28452294, -1.56581144,\n",
       "        -0.70496106,  7.68161255,  0.66289515, -0.86892925, -0.76963843]),\n",
       " 50745: array([-0.04813072, -1.12769441, -0.41255737, -1.05129674,  2.9225102 ,\n",
       "         1.21961306, -0.22357568,  0.46916959,  0.88234106,  1.3424747 ]),\n",
       " 52481: array([-0.04813072, -1.12769441, -0.44239811,  0.67552043,  0.59559434,\n",
       "        -0.40688642, -0.22357568,  0.46916959, -0.84460605, -0.76963843]),\n",
       " 63003: array([-0.04813072, -1.12769441,  0.0542711 , -1.61285698, -0.4537387 ,\n",
       "        -1.25492903, -0.21621783, -1.40998272, -0.01761729, -0.76963843])}"
      ]
     },
     "execution_count": 83,
     "metadata": {},
     "output_type": "execute_result"
    }
   ],
   "source": [
    "def create_inverted_index(corpus, features):\n",
    "    idx={}\n",
    "    for i, doc in enumerate(corpus):\n",
    "        for word in doc.split():\n",
    "            if word in idx:\n",
    "                if i not in idx[word]:\n",
    "                    # Add document\n",
    "                    idx[word][i] = features[i]\n",
    "            else:\n",
    "                # Add term\n",
    "                idx[word] = {i:features[i]}\n",
    "    return idx\n",
    "\n",
    "\n",
    "idx = create_inverted_index(corpus, features)\n",
    "print(idx['tricycle'].keys())\n",
    "print(idx['tricycle'].values())\n",
    "\n",
    "idx['tricycle']"
   ]
  },
  {
   "cell_type": "markdown",
   "metadata": {},
   "source": [
    "We can also load the model - in this case it was boosted gradient tree:"
   ]
  },
  {
   "cell_type": "code",
   "execution_count": 84,
   "metadata": {
    "collapsed": false
   },
   "outputs": [],
   "source": [
    "clf = joblib.load('models/mlr.pkl')"
   ]
  },
  {
   "cell_type": "code",
   "execution_count": 93,
   "metadata": {
    "collapsed": false
   },
   "outputs": [
    {
     "name": "stdout",
     "output_type": "stream",
     "text": [
      "\n",
      "Top 10 from recall set of 2053 items:\n",
      "\t1.000000 - air conditioning vent clock time thermometer celsius digital blue led backlight\n",
      "\t1.000000 - nike air jordan retro db doernbecher sz free shipping\n",
      "\t1.000000 - nike air yeezy sp red october nrg solar platinum ii blink net zen yeezys i\n",
      "\t1.000000 - chevrolet bel air sports coupe\n",
      "\t0.999999 - chevrolet bel air belair\n",
      "\t0.999998 - shock absorber max air air rear monroe\n",
      "\t0.999998 - chevrolet bel air belair\n",
      "\t0.999997 - flexible silicon decal keyboard cover keypad skin for mac macbook air pro\n",
      "\t0.999997 - youth girls nike shox classic sneakers shoes size white silver\n",
      "\t0.999996 - matte hard cover scrub case for macbook air pro retina\n",
      "\n",
      "Bottom 10 from recall set of 2053 items:\n",
      "\t0.000751 - briggs stratton sunbelt oregon air filter replacement\n",
      "\t0.000706 - chevrolet impala ss bel air tilt steering column wheel black\n",
      "\t0.000602 - pu leather w stand smart for apple ipad air mini case cover transform\n",
      "\t0.000554 - nike air jordan high dw black red white aj wings for the future\n",
      "\t0.000554 - performance bmw extravaganza air ride window louvre july free shipping\n",
      "\t0.000523 - size nike air foamposite one metallic gold preorder\n",
      "\t0.000419 - air lift loadlifter leaf spring leveling kit\n",
      "\t0.000380 - trane electrostatic whole house air cleaner power door panel used\n",
      "\t0.000124 - nike tech xtreme iv golf glove white black action red\n",
      "\t0.000015 - apple ipad air gen or wi fi only retina display\n"
     ]
    }
   ],
   "source": [
    "from collections import Counter\n",
    "import itertools\n",
    "\n",
    "def get_results_mlr(qry, idx, model):\n",
    "    score = Counter()\n",
    "    for term in qry.split():\n",
    "        for doc, features in idx[term].iteritems():\n",
    "            score[doc] = model.predict_proba(features.reshape(1,-1))[0][1]\n",
    "            \n",
    "    results=[]\n",
    "    for x in [[r[0],r[1]] for r in zip(score.keys(), score.values())]:\n",
    "        if x[1] > 0:\n",
    "            # output [0] score, [1] doc_id\n",
    "            results.append([x[1],x[0]])\n",
    "\n",
    "    sorted_results = sorted(results, key=lambda t: t[0] * -1 )\n",
    "    return sorted_results;\n",
    "\n",
    "def print_results(results,n, head=True):\n",
    "    ''' Helper function to print results\n",
    "    '''\n",
    "    if head:    \n",
    "        print('\\nTop %d from recall set of %d items:' % (n,len(results)))\n",
    "        for r in results[:n]:\n",
    "            print('\\t%0.6f - %s'%(r[0],corpus[r[1]]))\n",
    "    else:\n",
    "        print('\\nBottom %d from recall set of %d items:' % (n,len(results)))\n",
    "        for r in results[-n:]:\n",
    "            print('\\t%0.6f - %s'%(r[0],corpus[r[1]]))\n",
    "            \n",
    "            \n",
    "            \n",
    "results = get_results_mlr('nike air yeezy', idx, clf)\n",
    "print_results(results,10)\n",
    "print_results(results,10,head=False)\n"
   ]
  },
  {
   "cell_type": "code",
   "execution_count": 95,
   "metadata": {
    "collapsed": false
   },
   "outputs": [
    {
     "name": "stdout",
     "output_type": "stream",
     "text": [
      "\n",
      "Top 10 from recall set of 4347 items:\n",
      "\t1.000000 - lebron x p s elite white metallic gold black brand new dead stock\n",
      "\t1.000000 - apple iphone white verizon smartphone\n",
      "\t1.000000 - bia cordon bleu white ceramic large mixing serving bowl painted fruit flowers\n",
      "\t1.000000 - new electro brand in home micro stereo cd player ipod w remote white\n",
      "\t1.000000 - mens rolex datejust stainless steel date watch w black dial white gold bezel\n",
      "\t1.000000 - new painted romantic poem hard back skin cover case for apple iphone\n",
      "\t1.000000 - samsung galaxy s iii verizon unlocked gsm sch marble white\n",
      "\t0.999999 - gibson les paul traditional pro ii white w case upgd duncan jb jazz\n",
      "\t0.999999 - jtt karaoke noiseless mute microphone for ipad iphone smartphone japan\n",
      "\t0.999999 - apple iphone factory unlocked smartphone gold silver gray\n",
      "\n",
      "Bottom 10 from recall set of 4347 items:\n",
      "\t0.000259 - stainless steel rolex explorer ii white p serial\n",
      "\t0.000254 - express fitted button down shirt long sleeves white sizes xs s m l xl nwot\n",
      "\t0.000241 - ft outlet prong indoor wall power ac extension cord cable white etl listed\n",
      "\t0.000206 - pottery barn classic voile drape curtain panel x white s\n",
      "\t0.000192 - black white lanyard paracord safety breakaway pop barrel connectors clasp\n",
      "\t0.000124 - nike tech xtreme iv golf glove white black action red\n",
      "\t0.000106 - leviton igw decora surge with indicator light white\n",
      "\t0.000048 - cobalt blue and white vintage bead earring set cha cha bracelet silver charms\n",
      "\t0.000010 - daylight white led kitchen under cabinet light puck light tap lamp\n",
      "\t0.000002 - straight talk verizon sim card byop verizon any cdma galaxy iphone free shipping\n"
     ]
    }
   ],
   "source": [
    "results = get_results_mlr('white iphone', idx, clf)\n",
    "print_results(results,10)\n",
    "print_results(results,10,head=False)"
   ]
  }
 ],
 "metadata": {
  "kernelspec": {
   "display_name": "Python 2",
   "language": "python",
   "name": "python2"
  },
  "language_info": {
   "codemirror_mode": {
    "name": "ipython",
    "version": 2
   },
   "file_extension": ".py",
   "mimetype": "text/x-python",
   "name": "python",
   "nbconvert_exporter": "python",
   "pygments_lexer": "ipython2",
   "version": "2.7.11"
  }
 },
 "nbformat": 4,
 "nbformat_minor": 0
}
